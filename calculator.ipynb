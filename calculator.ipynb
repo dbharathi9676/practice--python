{
 "cells": [
  {
   "cell_type": "code",
   "execution_count": null,
   "id": "e29a2160",
   "metadata": {},
   "outputs": [
    {
     "name": "stdout",
     "output_type": "stream",
     "text": [
      "enter number1 : 2\n",
      "+\n",
      "-\n",
      "*\n",
      "/\n",
      "pick an operation/\n",
      "enter number2 : 4\n",
      "0.5\n",
      "enter 'y' to continue calculation with0.5 or 'n' to  start a new calculation 'x' to exitn\n"
     ]
    }
   ],
   "source": [
    "import os\n",
    "def add(a,b):\n",
    "    return a+b\n",
    "def sub(a,b):\n",
    "    return a-b\n",
    "def mul(a,b):\n",
    "    return a*b\n",
    "def div(a,b):\n",
    "    return a/b\n",
    "dict1={\"+\":add ,\"-\":sub, \"*\":mul , \"/\":div}\n",
    "def calculator():\n",
    "    num1=float(input(\"enter number1 : \"))\n",
    "    for i in dict1:\n",
    "        print(i)  \n",
    "    continue_flag=True\n",
    "    while continue_flag:\n",
    "        operation=input(\"pick an operation\")\n",
    "        num2=float(input(\"enter number2 : \"))\n",
    "        calculator_function=dict1[operation]\n",
    "        output=calculator_function(num1,num2)\n",
    "        print(output)\n",
    "        should_continue=input(f\"enter 'y' to continue calculation with{output} or 'n' to  start a new calculation 'x' to exit\").lower()\n",
    "        if should_continue=='y':\n",
    "            num1=output\n",
    "        elif should_continue=='n':\n",
    "            continue_flag=False\n",
    "            os.system('cls')\n",
    "            calculator()\n",
    "        \n",
    "        elif should_continue=='x':\n",
    "            continue_flag=False\n",
    "            print(\"bye\")\n",
    "calculator()\n",
    "        \n",
    "    \n",
    "    \n",
    "    \n",
    "    \n",
    "    \n",
    "    \n",
    "    \n",
    "    \n",
    "    \n",
    "    \n",
    "\n"
   ]
  },
  {
   "cell_type": "code",
   "execution_count": null,
   "id": "41c5ba59",
   "metadata": {},
   "outputs": [],
   "source": []
  }
 ],
 "metadata": {
  "kernelspec": {
   "display_name": "Python 3",
   "language": "python",
   "name": "python3"
  },
  "language_info": {
   "codemirror_mode": {
    "name": "ipython",
    "version": 3
   },
   "file_extension": ".py",
   "mimetype": "text/x-python",
   "name": "python",
   "nbconvert_exporter": "python",
   "pygments_lexer": "ipython3",
   "version": "3.8.8"
  }
 },
 "nbformat": 4,
 "nbformat_minor": 5
}
