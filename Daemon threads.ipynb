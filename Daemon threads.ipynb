{
 "cells": [
  {
   "cell_type": "markdown",
   "id": "ece0507c",
   "metadata": {},
   "source": [
    "# daemon threads: some times threads may  run in the background ,such type of background executing threads are called as daemon threads.\n",
    "the main purpose of daemon threads is to provide support for non-daemon threads(main thread)   1.supporting jobs can be implemented by using daemon threads.   2.main jobs can be implemented by using non-daemon threads\n",
    "ex: Garbage collector "
   ]
  },
  {
   "cell_type": "markdown",
   "id": "56c12de2",
   "metadata": {},
   "source": [
    "# isDaemon()/daemon : used to check whether the thread is daemon or non-daemon thread"
   ]
  },
  {
   "cell_type": "code",
   "execution_count": 1,
   "id": "b0f860f6",
   "metadata": {},
   "outputs": [
    {
     "name": "stdout",
     "output_type": "stream",
     "text": [
      "False\n",
      "False\n"
     ]
    }
   ],
   "source": [
    "from threading import *\n",
    "mt=current_thread() #main thread is always non-demon\n",
    "print(mt.isDaemon())\n",
    "print(mt.daemon)"
   ]
  },
  {
   "cell_type": "markdown",
   "id": "bc35f797",
   "metadata": {},
   "source": [
    "# setDaemon(True) : setting thread into daemon thread  and  similarly  we have setDaemon(False) :setting thread into non-daemon thread .\n"
   ]
  },
  {
   "cell_type": "markdown",
   "id": "699b6079",
   "metadata": {},
   "source": [
    "note: once thread started we cannot convert its daemon nature. if you try then it will show runtime error,see below example\n",
    "Runtime error: cannot set daemon status of active thread\n",
    "by default the  main thread (non-daemon) is always active hence we cannot change its daemon nature. "
   ]
  },
  {
   "cell_type": "code",
   "execution_count": 2,
   "id": "4808de36",
   "metadata": {},
   "outputs": [
    {
     "name": "stdout",
     "output_type": "stream",
     "text": [
      "False\n"
     ]
    },
    {
     "ename": "RuntimeError",
     "evalue": "cannot set daemon status of active thread",
     "output_type": "error",
     "traceback": [
      "\u001b[1;31m---------------------------------------------------------------------------\u001b[0m",
      "\u001b[1;31mRuntimeError\u001b[0m                              Traceback (most recent call last)",
      "\u001b[1;32m<ipython-input-2-ab7dc78854da>\u001b[0m in \u001b[0;36m<module>\u001b[1;34m\u001b[0m\n\u001b[0;32m      2\u001b[0m \u001b[0mmt\u001b[0m\u001b[1;33m=\u001b[0m\u001b[0mcurrent_thread\u001b[0m\u001b[1;33m(\u001b[0m\u001b[1;33m)\u001b[0m\u001b[1;33m\u001b[0m\u001b[1;33m\u001b[0m\u001b[0m\n\u001b[0;32m      3\u001b[0m \u001b[0mprint\u001b[0m\u001b[1;33m(\u001b[0m\u001b[0mmt\u001b[0m\u001b[1;33m.\u001b[0m\u001b[0mdaemon\u001b[0m\u001b[1;33m)\u001b[0m\u001b[1;33m\u001b[0m\u001b[1;33m\u001b[0m\u001b[0m\n\u001b[1;32m----> 4\u001b[1;33m \u001b[0mmt\u001b[0m\u001b[1;33m.\u001b[0m\u001b[0msetDaemon\u001b[0m\u001b[1;33m(\u001b[0m\u001b[1;32mTrue\u001b[0m\u001b[1;33m)\u001b[0m\u001b[1;33m\u001b[0m\u001b[1;33m\u001b[0m\u001b[0m\n\u001b[0m",
      "\u001b[1;32mC:\\ProgramData\\Anaconda3\\lib\\threading.py\u001b[0m in \u001b[0;36msetDaemon\u001b[1;34m(self, daemonic)\u001b[0m\n\u001b[0;32m   1120\u001b[0m \u001b[1;33m\u001b[0m\u001b[0m\n\u001b[0;32m   1121\u001b[0m     \u001b[1;32mdef\u001b[0m \u001b[0msetDaemon\u001b[0m\u001b[1;33m(\u001b[0m\u001b[0mself\u001b[0m\u001b[1;33m,\u001b[0m \u001b[0mdaemonic\u001b[0m\u001b[1;33m)\u001b[0m\u001b[1;33m:\u001b[0m\u001b[1;33m\u001b[0m\u001b[1;33m\u001b[0m\u001b[0m\n\u001b[1;32m-> 1122\u001b[1;33m         \u001b[0mself\u001b[0m\u001b[1;33m.\u001b[0m\u001b[0mdaemon\u001b[0m \u001b[1;33m=\u001b[0m \u001b[0mdaemonic\u001b[0m\u001b[1;33m\u001b[0m\u001b[1;33m\u001b[0m\u001b[0m\n\u001b[0m\u001b[0;32m   1123\u001b[0m \u001b[1;33m\u001b[0m\u001b[0m\n\u001b[0;32m   1124\u001b[0m     \u001b[1;32mdef\u001b[0m \u001b[0mgetName\u001b[0m\u001b[1;33m(\u001b[0m\u001b[0mself\u001b[0m\u001b[1;33m)\u001b[0m\u001b[1;33m:\u001b[0m\u001b[1;33m\u001b[0m\u001b[1;33m\u001b[0m\u001b[0m\n",
      "\u001b[1;32mC:\\ProgramData\\Anaconda3\\lib\\threading.py\u001b[0m in \u001b[0;36mdaemon\u001b[1;34m(self, daemonic)\u001b[0m\n\u001b[0;32m   1113\u001b[0m             \u001b[1;32mraise\u001b[0m \u001b[0mRuntimeError\u001b[0m\u001b[1;33m(\u001b[0m\u001b[1;34m\"Thread.__init__() not called\"\u001b[0m\u001b[1;33m)\u001b[0m\u001b[1;33m\u001b[0m\u001b[1;33m\u001b[0m\u001b[0m\n\u001b[0;32m   1114\u001b[0m         \u001b[1;32mif\u001b[0m \u001b[0mself\u001b[0m\u001b[1;33m.\u001b[0m\u001b[0m_started\u001b[0m\u001b[1;33m.\u001b[0m\u001b[0mis_set\u001b[0m\u001b[1;33m(\u001b[0m\u001b[1;33m)\u001b[0m\u001b[1;33m:\u001b[0m\u001b[1;33m\u001b[0m\u001b[1;33m\u001b[0m\u001b[0m\n\u001b[1;32m-> 1115\u001b[1;33m             \u001b[1;32mraise\u001b[0m \u001b[0mRuntimeError\u001b[0m\u001b[1;33m(\u001b[0m\u001b[1;34m\"cannot set daemon status of active thread\"\u001b[0m\u001b[1;33m)\u001b[0m\u001b[1;33m\u001b[0m\u001b[1;33m\u001b[0m\u001b[0m\n\u001b[0m\u001b[0;32m   1116\u001b[0m         \u001b[0mself\u001b[0m\u001b[1;33m.\u001b[0m\u001b[0m_daemonic\u001b[0m \u001b[1;33m=\u001b[0m \u001b[0mdaemonic\u001b[0m\u001b[1;33m\u001b[0m\u001b[1;33m\u001b[0m\u001b[0m\n\u001b[0;32m   1117\u001b[0m \u001b[1;33m\u001b[0m\u001b[0m\n",
      "\u001b[1;31mRuntimeError\u001b[0m: cannot set daemon status of active thread"
     ]
    }
   ],
   "source": [
    "from threading import *\n",
    "mt=current_thread() \n",
    "print(mt.daemon)\n",
    "mt.setDaemon(True)"
   ]
  },
  {
   "cell_type": "code",
   "execution_count": 10,
   "id": "aab67cf2",
   "metadata": {},
   "outputs": [
    {
     "name": "stdout",
     "output_type": "stream",
     "text": [
      "i am child thread : True\n",
      "False\n",
      "\n"
     ]
    }
   ],
   "source": [
    "from threading import*\n",
    "def job():\n",
    "    print(\"i am child thread : \")\n",
    "t=Thread(target=job)\n",
    "t.setDaemon(True)   #converting thread into daemon always convert the thread before start()\n",
    "t.start()\n",
    "print(t.daemon)\n",
    "print(current_thread().daemon)"
   ]
  },
  {
   "cell_type": "markdown",
   "id": "4b738808",
   "metadata": {},
   "source": [
    "# daemon nature inherited  from parent\n",
    "1.if parent thread is daemon then child thread is also daemon\n",
    "2.if parent thread is non-daemon then child thread is non-daemon"
   ]
  },
  {
   "cell_type": "code",
   "execution_count": 16,
   "id": "62111940",
   "metadata": {},
   "outputs": [
    {
     "name": "stdout",
     "output_type": "stream",
     "text": [
      "i am child thread : False\n",
      "\n",
      "False\n"
     ]
    }
   ],
   "source": [
    "from threading import*\n",
    "def job():\n",
    "    print(\"i am child thread : \")\n",
    "t=Thread(target=job)\n",
    "t.start()   \n",
    "print(t.isDaemon())\n",
    "print(current_thread().daemon)"
   ]
  },
  {
   "cell_type": "code",
   "execution_count": 28,
   "id": "b5d7d983",
   "metadata": {},
   "outputs": [
    {
     "name": "stdout",
     "output_type": "stream",
     "text": [
      "i am child thread : \n",
      " \n",
      "t2 is daemon :  True\n",
      "t1 is daemon  :  True\n",
      "main thread is :  False\n",
      "executed by t2\n"
     ]
    }
   ],
   "source": [
    "from threading import*\n",
    "def job1():\n",
    "    print(\"i am child thread : \\n \")\n",
    "    t2=Thread(target=job2)\n",
    "    print('t2 is daemon : ',t2.isDaemon())\n",
    "    t2.start()\n",
    "\n",
    "def job2():\n",
    "    print(\"executed by t2\")\n",
    "\n",
    "t1=Thread(target=job1)\n",
    "t1.setDaemon(True)\n",
    "t1.start()\n",
    "\n",
    "print( 't1 is daemon  : ', t1.isDaemon())\n",
    "print('main thread is : ',current_thread().daemon)"
   ]
  },
  {
   "cell_type": "markdown",
   "id": "1906d02b",
   "metadata": {},
   "source": [
    "# important point:\n",
    "whenever the non-daemon thread terminates,automatically all daemon threads will be terminated .we are not required to terminate explicitly.\n",
    "ex:hero, heroines,comedian (non-daemons) -----movie shooting running .producer,director,makeup (daemon threads) -----after commpletion of movie shooting no use makeup man, producer,director .example program given below\n"
   ]
  },
  {
   "cell_type": "code",
   "execution_count": 8,
   "id": "a586b691",
   "metadata": {},
   "outputs": [
    {
     "name": "stdout",
     "output_type": "stream",
     "text": [
      "i am child thread : \n",
      "t is daemon :  True\n",
      "i am child thread : \n",
      "i am child thread : \n",
      "end of main thread\n",
      "i am child thread : \n",
      "i am child thread : \n",
      "i am child thread : \n",
      "i am child thread : \n",
      "i am child thread : \n",
      "i am child thread : \n",
      "i am child thread : \n"
     ]
    }
   ],
   "source": [
    "from threading import*\n",
    "import time\n",
    "def job():\n",
    "    for i in range(10):\n",
    "        print(\"i am child thread : \")\n",
    "        time.sleep(2)\n",
    "        \n",
    "t=Thread(target=job)\n",
    "t.setDaemon(True)   #converting thread into daemon always convert the thread before start()\n",
    "t.start()\n",
    "print(\"t is daemon : \",t.isDaemon())\n",
    "time.sleep(5)\n",
    "print(\"end of main thread\")\n",
    "\n"
   ]
  },
  {
   "cell_type": "code",
   "execution_count": null,
   "id": "2d7589b9",
   "metadata": {},
   "outputs": [],
   "source": []
  }
 ],
 "metadata": {
  "kernelspec": {
   "display_name": "Python 3",
   "language": "python",
   "name": "python3"
  },
  "language_info": {
   "codemirror_mode": {
    "name": "ipython",
    "version": 3
   },
   "file_extension": ".py",
   "mimetype": "text/x-python",
   "name": "python",
   "nbconvert_exporter": "python",
   "pygments_lexer": "ipython3",
   "version": "3.8.8"
  }
 },
 "nbformat": 4,
 "nbformat_minor": 5
}
