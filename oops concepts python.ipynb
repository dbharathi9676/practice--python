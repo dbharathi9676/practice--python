{
 "cells": [
  {
   "cell_type": "markdown",
   "id": "9e858551",
   "metadata": {},
   "source": [
    " class: it is an user defined datatype.it acts like a factory to produce objects.nothing but a blueprint\n",
    "object: a real world entity.\n",
    "ex: class instructor:\n",
    "          has name     }  atrributes \n",
    "              address }\n",
    "          does teaching   }  methods\n",
    "                quiz prep }"
   ]
  },
  {
   "cell_type": "code",
   "execution_count": 11,
   "id": "262f8a3f",
   "metadata": {},
   "outputs": [
    {
     "name": "stdout",
     "output_type": "stream",
     "text": [
      "seethapuram\n",
      "0\n",
      "i am ram my address is seethapuram and 21 years old\n",
      "2\n",
      "gangapuram\n",
      "0\n"
     ]
    }
   ],
   "source": [
    "class Instructor:\n",
    "    followers=0    #class variable\n",
    "    def __init__(self, ins_name, ins_address):\n",
    "        self.name = ins_name\n",
    "        self.address= ins_address   \n",
    "    def display(self,age):\n",
    "        print(f\"i am {self.name} my address is {self.address} and {age} years old\")\n",
    "    def update_followers(self, follower_name):\n",
    "        self.followers += 1\n",
    "\n",
    "instruct_1= Instructor(\"ram\", \"seethapuram\")\n",
    "print(instruct_1.address)\n",
    "print(instruct_1.followers)\n",
    "instruct_1.display(21)\n",
    "instruct_1.update_followers(\"bharu\")\n",
    "instruct_1.update_followers(\"deepu\")\n",
    "print(instruct_1.followers)\n",
    "\n",
    "\n",
    "instruct_2= Instructor(\"shiv\", \"gangapuram\")\n",
    "print(instruct_2.address)\n",
    "print(instruct_2.followers)"
   ]
  },
  {
   "cell_type": "code",
   "execution_count": null,
   "id": "8e5b0dae",
   "metadata": {},
   "outputs": [],
   "source": []
  },
  {
   "cell_type": "code",
   "execution_count": null,
   "id": "2a6ae41a",
   "metadata": {},
   "outputs": [],
   "source": []
  },
  {
   "cell_type": "code",
   "execution_count": null,
   "id": "9b1b14d5",
   "metadata": {},
   "outputs": [],
   "source": []
  }
 ],
 "metadata": {
  "kernelspec": {
   "display_name": "Python 3",
   "language": "python",
   "name": "python3"
  },
  "language_info": {
   "codemirror_mode": {
    "name": "ipython",
    "version": 3
   },
   "file_extension": ".py",
   "mimetype": "text/x-python",
   "name": "python",
   "nbconvert_exporter": "python",
   "pygments_lexer": "ipython3",
   "version": "3.8.8"
  }
 },
 "nbformat": 4,
 "nbformat_minor": 5
}
