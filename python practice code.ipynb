{
 "cells": [
  {
   "cell_type": "markdown",
   "id": "ff1b305b",
   "metadata": {},
   "source": [
    "# string methods"
   ]
  },
  {
   "cell_type": "code",
   "execution_count": 1,
   "id": "7b8e210b",
   "metadata": {},
   "outputs": [
    {
     "name": "stdout",
     "output_type": "stream",
     "text": [
      "hello\n",
      "i am\n",
      "bharathi\n"
     ]
    }
   ],
   "source": [
    "a='''hello\n",
    "i am\n",
    "bharathi'''\n",
    "print(a)"
   ]
  },
  {
   "cell_type": "code",
   "execution_count": 2,
   "id": "a0d598a5",
   "metadata": {},
   "outputs": [
    {
     "name": "stdout",
     "output_type": "stream",
     "text": [
      "hello\n",
      "i am\n",
      "bharathi\n"
     ]
    }
   ],
   "source": [
    "a=\"\"\"hello\n",
    "i am\n",
    "bharathi\"\"\"\n",
    "print(a)"
   ]
  },
  {
   "cell_type": "code",
   "execution_count": 3,
   "id": "7f4551ed",
   "metadata": {},
   "outputs": [
    {
     "name": "stdout",
     "output_type": "stream",
     "text": [
      "b\n",
      "a\n",
      "n\n",
      "a\n",
      "n\n",
      "a\n"
     ]
    }
   ],
   "source": [
    "for x in \"banana\":\n",
    "    print(x)\n",
    "    "
   ]
  },
  {
   "cell_type": "code",
   "execution_count": 5,
   "id": "59aa88cb",
   "metadata": {},
   "outputs": [
    {
     "name": "stdout",
     "output_type": "stream",
     "text": [
      "True\n",
      "True\n"
     ]
    }
   ],
   "source": [
    "b=\"hello turtle\"\n",
    "print(\"turtle\" in b)\n",
    "print(\"z\" not in b)"
   ]
  },
  {
   "cell_type": "code",
   "execution_count": 17,
   "id": "75f251ab",
   "metadata": {},
   "outputs": [
    {
     "name": "stdout",
     "output_type": "stream",
     "text": [
      "ell\n",
      " HELLO TURTLE \n",
      " hello turtle \n",
      "HellO TURtle\n"
     ]
    }
   ],
   "source": [
    "b=\" HellO TURtle \"\n",
    "print(b[2:5])\n",
    "print(b.upper())\n",
    "print(b.lower())\n",
    "print(b.strip())\n"
   ]
  },
  {
   "cell_type": "code",
   "execution_count": 12,
   "id": "1de545fd",
   "metadata": {},
   "outputs": [
    {
     "name": "stdout",
     "output_type": "stream",
     "text": [
      "['HellO ', 'TURtle', '']\n",
      "CellO ,TURtle,\n"
     ]
    }
   ],
   "source": [
    "b=\"HellO ,TURtle,\"\n",
    "print(b.split(\",\"))\n",
    "print(b.replace(\"H\",\"C\"))"
   ]
  },
  {
   "cell_type": "code",
   "execution_count": 13,
   "id": "a8400b84",
   "metadata": {},
   "outputs": [
    {
     "name": "stdout",
     "output_type": "stream",
     "text": [
      "my name is hanuman i am 20 old quantity i want 3\n"
     ]
    }
   ],
   "source": [
    "quantity=3\n",
    "age=20\n",
    "name='hanuman'\n",
    "myid=\"my name is {2} i am {1} old quantity i want {0}\"\n",
    "print(myid.format(quantity,age,name))"
   ]
  },
  {
   "cell_type": "code",
   "execution_count": 16,
   "id": "fc4afd3c",
   "metadata": {},
   "outputs": [
    {
     "name": "stdout",
     "output_type": "stream",
     "text": [
      "Hello hanuman\n",
      "hello hanuman\n",
      "   HeLLo HANUman    \n",
      "False\n",
      "True\n",
      "4\n",
      "4\n",
      "hEllO hanuMAN\n",
      "False\n",
      "False\n",
      "False\n",
      "False\n",
      "False\n",
      "False\n",
      "False\n"
     ]
    }
   ],
   "source": [
    "c=\"HeLLo HANUman\"\n",
    "print(c.capitalize())\n",
    "print(c.casefold())\n",
    "print(c.center(20))\n",
    "print(c.startswith(\"hello\"))\n",
    "print(c.endswith(\"man\"))\n",
    "print(c.find(\"o\"))\n",
    "print(c.index(\"o\"))\n",
    "print(c.swapcase())\n",
    "print(c.isalpha())\n",
    "print(c.isalnum())\n",
    "print(c.isdecimal())\n",
    "print(c.isdigit())\n",
    "print(c.isupper())\n",
    "print(c.islower())\n",
    "print(c.isspace())\n",
    "\n"
   ]
  },
  {
   "cell_type": "markdown",
   "id": "46f72d47",
   "metadata": {},
   "source": [
    "# list methods"
   ]
  },
  {
   "cell_type": "code",
   "execution_count": 20,
   "id": "2d157c2f",
   "metadata": {},
   "outputs": [
    {
     "name": "stdout",
     "output_type": "stream",
     "text": [
      "['hel', 23, 56.9, 'bp']\n",
      "4\n",
      "23\n",
      "[23, 56.9]\n",
      "bp\n",
      "['hel', 2, 56.9, 'bp']\n"
     ]
    }
   ],
   "source": [
    "a=[\"hel\",23,56.90,'bp']\n",
    "print(a)\n",
    "print(len(a))\n",
    "print(a[1])\n",
    "print(a[1:3])\n",
    "print(a[-1])\n",
    "a[1]=2\n",
    "print(a)\n"
   ]
  },
  {
   "cell_type": "code",
   "execution_count": 21,
   "id": "ef383c5e",
   "metadata": {},
   "outputs": [
    {
     "name": "stdout",
     "output_type": "stream",
     "text": [
      "['hel', 23, 56.9, 'bp']\n"
     ]
    }
   ],
   "source": [
    "a=list((\"hel\",23,56.90,'bp'))\n",
    "print(a)"
   ]
  },
  {
   "cell_type": "code",
   "execution_count": 54,
   "id": "7f85233b",
   "metadata": {},
   "outputs": [
    {
     "name": "stdout",
     "output_type": "stream",
     "text": [
      "['a', 'b', 'c', 'd', 't']\n",
      "['a', 'b', 'c', 'd', 't']\n",
      "1\n",
      "2\n",
      "['t', 'd', 'c', 'b', 'a']\n",
      "['a', 'b', 'c', 'd', 't']\n",
      "[]\n",
      "['a', 'b', 'j', 'c', 'd', 't']\n"
     ]
    }
   ],
   "source": [
    "a=['a','b','c','d']\n",
    "a.append('t')\n",
    "print(a)\n",
    "b=a.copy()\n",
    "print(b)\n",
    "print(a.count('b'))\n",
    "print(a.index('c'))\n",
    "b.reverse()\n",
    "print(b)\n",
    "a.sort()\n",
    "print(a)\n",
    "b.clear()\n",
    "print(b)\n",
    "a.insert(2,\"j\")\n",
    "print(a)\n",
    "\n",
    "\n",
    "\n"
   ]
  },
  {
   "cell_type": "code",
   "execution_count": 53,
   "id": "0a01af34",
   "metadata": {},
   "outputs": [
    {
     "name": "stdout",
     "output_type": "stream",
     "text": [
      "['a', 'b', 'c', 'd', ['h', 'i']]\n"
     ]
    }
   ],
   "source": [
    "a=['a','b','c','d']\n",
    "g=['h','i']\n",
    "a.append(g)\n",
    "print(a)"
   ]
  },
  {
   "cell_type": "code",
   "execution_count": 51,
   "id": "ee778005",
   "metadata": {},
   "outputs": [
    {
     "name": "stdout",
     "output_type": "stream",
     "text": [
      "['a', 'v', 'c', 'h']\n",
      "['a', 'c', 'h', 'v']\n"
     ]
    }
   ],
   "source": [
    "b=['a','v']\n",
    "c=['c','h']\n",
    "b.extend(c)\n",
    "print(b)\n",
    "b.sort()\n",
    "print(b)"
   ]
  },
  {
   "cell_type": "code",
   "execution_count": 50,
   "id": "ab37606e",
   "metadata": {},
   "outputs": [
    {
     "name": "stdout",
     "output_type": "stream",
     "text": [
      "['a', 'b', 'd']\n",
      "['a', 'b']\n",
      "['a']\n"
     ]
    }
   ],
   "source": [
    "a=['a','b','c','d']\n",
    "a.pop(2)\n",
    "print(a)\n",
    "a.pop()\n",
    "print(a)\n",
    "a.remove('b')\n",
    "print(a)"
   ]
  },
  {
   "cell_type": "markdown",
   "id": "230b3fee",
   "metadata": {},
   "source": [
    "# tuple methods"
   ]
  },
  {
   "cell_type": "code",
   "execution_count": 59,
   "id": "8c4c6986",
   "metadata": {},
   "outputs": [
    {
     "name": "stdout",
     "output_type": "stream",
     "text": [
      "('1', '2', '3', '2', '1', '2')\n",
      "('1', '2', '3', '2', '1', '2')\n",
      "3\n",
      "1\n"
     ]
    }
   ],
   "source": [
    "tup1=('1','2','3','2','1','2')\n",
    "tup2=tuple(('1','2','3','2','1','2'))\n",
    "print(tup1)\n",
    "print(tup2)\n",
    "print(tup1.count('2'))\n",
    "print(tup1.index('2'))"
   ]
  },
  {
   "cell_type": "markdown",
   "id": "99ec7c9b",
   "metadata": {},
   "source": [
    "# set methods"
   ]
  },
  {
   "cell_type": "code",
   "execution_count": 62,
   "id": "70b6a726",
   "metadata": {},
   "outputs": [
    {
     "name": "stdout",
     "output_type": "stream",
     "text": [
      "{'1', 3, '3', 'hello'}\n",
      "{'1', 3, '3', 'hello'}\n",
      "set()\n"
     ]
    }
   ],
   "source": [
    "set1={'1',3,'hello','3' ,3}\n",
    "set2=set(('1',3,'hello','3' ,3))\n",
    "print(set1)\n",
    "print(set2)\n",
    "set2.clear()\n",
    "print(set2)\n"
   ]
  },
  {
   "cell_type": "code",
   "execution_count": 72,
   "id": "b5881637",
   "metadata": {},
   "outputs": [
    {
     "name": "stdout",
     "output_type": "stream",
     "text": [
      "{'b', 'a', 'c', 'd'}\n",
      "{'b', 'a', 'c', 'd'}\n",
      "{'b', 'a', 'c'}\n",
      "{'d'}\n",
      "{'b', 'a', 'c'}\n",
      "{'a', 'c'}\n",
      "{'c'}\n"
     ]
    }
   ],
   "source": [
    "set3={'a','b','c'}\n",
    "set3.add('d')\n",
    "print(set3)\n",
    "set4=set3.copy()\n",
    "print(set4)\n",
    "set4.discard('d')\n",
    "print(set4)\n",
    "s5=set3.difference(set4)\n",
    "print(s5)\n",
    "s6=set3.intersection(set4)\n",
    "print(s6)\n",
    "s6.pop()\n",
    "print(s6)\n",
    "s6.remove('a')\n",
    "print(s6)"
   ]
  },
  {
   "cell_type": "markdown",
   "id": "c8938903",
   "metadata": {},
   "source": [
    "# dictionary methods"
   ]
  },
  {
   "cell_type": "code",
   "execution_count": 4,
   "id": "b6772e39",
   "metadata": {},
   "outputs": [
    {
     "name": "stdout",
     "output_type": "stream",
     "text": [
      "{1: 'a', 2: 'b', 3: 'c'}\n"
     ]
    }
   ],
   "source": [
    "dict1={1:'a',2:'b',3:'c'}\n",
    "print(dict1)\n"
   ]
  },
  {
   "cell_type": "code",
   "execution_count": 13,
   "id": "a3194a0d",
   "metadata": {},
   "outputs": [
    {
     "name": "stdout",
     "output_type": "stream",
     "text": [
      "{'age': 10, 'clas': 20}\n"
     ]
    }
   ],
   "source": [
    "dict2=dict(age=10, clas = 20)\n",
    "print(dict2)"
   ]
  },
  {
   "cell_type": "code",
   "execution_count": 19,
   "id": "91cb3a81",
   "metadata": {},
   "outputs": [
    {
     "name": "stdout",
     "output_type": "stream",
     "text": [
      "{1: 'a', 2: 'b', 3: 'c'}\n",
      "{1: 'a', 2: 'b', 3: 'c'}\n"
     ]
    },
    {
     "data": {
      "text/plain": [
       "dict_keys([1, 2, 3])"
      ]
     },
     "execution_count": 19,
     "metadata": {},
     "output_type": "execute_result"
    }
   ],
   "source": [
    "d1={1:'a',2:'b',3:'c'}\n",
    "print(d1)\n",
    "d2=d1.copy()\n",
    "print(d2)\n",
    "d1.get(2)\n",
    "d1.keys()\n"
   ]
  },
  {
   "cell_type": "code",
   "execution_count": 20,
   "id": "464335ae",
   "metadata": {},
   "outputs": [
    {
     "name": "stdout",
     "output_type": "stream",
     "text": [
      "{1: 'a', 2: 'b', 3: 'c'}\n"
     ]
    },
    {
     "data": {
      "text/plain": [
       "dict_values(['a', 'b', 'c'])"
      ]
     },
     "execution_count": 20,
     "metadata": {},
     "output_type": "execute_result"
    }
   ],
   "source": [
    "d1={1:'a',2:'b',3:'c'}\n",
    "print(d1)\n",
    "d1.values()\n"
   ]
  },
  {
   "cell_type": "code",
   "execution_count": 21,
   "id": "4742aa72",
   "metadata": {},
   "outputs": [
    {
     "name": "stdout",
     "output_type": "stream",
     "text": [
      "{1: 'a', 2: 'b', 3: 'c'}\n"
     ]
    },
    {
     "data": {
      "text/plain": [
       "dict_items([(1, 'a'), (2, 'b'), (3, 'c')])"
      ]
     },
     "execution_count": 21,
     "metadata": {},
     "output_type": "execute_result"
    }
   ],
   "source": [
    "d1={1:'a',2:'b',3:'c'}\n",
    "print(d1)\n",
    "d1.items()\n"
   ]
  },
  {
   "cell_type": "code",
   "execution_count": 22,
   "id": "68f1c0c4",
   "metadata": {},
   "outputs": [
    {
     "name": "stdout",
     "output_type": "stream",
     "text": [
      "{1: 'a', 2: 'b', 3: 'c'}\n",
      "{1: 'a', 3: 'c'}\n"
     ]
    }
   ],
   "source": [
    "d1={1:'a',2:'b',3:'c'}\n",
    "print(d1)\n",
    "d1.pop(2)\n",
    "print(d1)\n"
   ]
  },
  {
   "cell_type": "code",
   "execution_count": 23,
   "id": "f9b24fa6",
   "metadata": {},
   "outputs": [
    {
     "name": "stdout",
     "output_type": "stream",
     "text": [
      "{1: 'a', 2: 'b', 3: 'c'}\n",
      "{1: 'a', 2: 'b'}\n"
     ]
    }
   ],
   "source": [
    "d1={1:'a',2:'b',3:'c'}\n",
    "print(d1)\n",
    "d1.popitem()\n",
    "print(d1)\n"
   ]
  },
  {
   "cell_type": "code",
   "execution_count": 24,
   "id": "9a92c762",
   "metadata": {},
   "outputs": [
    {
     "name": "stdout",
     "output_type": "stream",
     "text": [
      "{1: 'a', 2: 'b', 3: 'c'}\n",
      "{1: 'a', 2: 'b', 3: 'c', 4: 'd'}\n"
     ]
    }
   ],
   "source": [
    "d1={1:'a',2:'b',3:'c'}\n",
    "print(d1)\n",
    "d1.update({4:'d'})\n",
    "print(d1)\n"
   ]
  },
  {
   "cell_type": "code",
   "execution_count": null,
   "id": "c5fe9288",
   "metadata": {},
   "outputs": [],
   "source": []
  }
 ],
 "metadata": {
  "kernelspec": {
   "display_name": "Python 3",
   "language": "python",
   "name": "python3"
  },
  "language_info": {
   "codemirror_mode": {
    "name": "ipython",
    "version": 3
   },
   "file_extension": ".py",
   "mimetype": "text/x-python",
   "name": "python",
   "nbconvert_exporter": "python",
   "pygments_lexer": "ipython3",
   "version": "3.8.8"
  }
 },
 "nbformat": 4,
 "nbformat_minor": 5
}
