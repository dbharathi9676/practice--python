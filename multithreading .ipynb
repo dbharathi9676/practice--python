{
 "cells": [
  {
   "cell_type": "code",
   "execution_count": 25,
   "id": "02aaab7a",
   "metadata": {},
   "outputs": [
    {
     "name": "stdout",
     "output_type": "stream",
     "text": [
      "current executing thread:  MainThread\n"
     ]
    }
   ],
   "source": [
    "import threading\n",
    "print('current executing thread: ', threading.current_thread().getName())"
   ]
  },
  {
   "cell_type": "markdown",
   "id": "7a565143",
   "metadata": {},
   "source": [
    "# creating a thread without using any class"
   ]
  },
  {
   "cell_type": "code",
   "execution_count": 26,
   "id": "7fe75c96",
   "metadata": {},
   "outputs": [
    {
     "name": "stdout",
     "output_type": "stream",
     "text": [
      "child thread\n",
      "child thread\n",
      "child thread\n",
      "child thread\n",
      "child thread\n",
      "child thread\n",
      "child thread\n",
      "main threadchild thread\n",
      "child thread\n",
      "child thread\n",
      "\n",
      "main thread\n",
      "main thread\n",
      "main thread\n",
      "main thread\n",
      "main thread\n",
      "main thread\n",
      "main thread\n",
      "main thread\n",
      "main thread\n"
     ]
    }
   ],
   "source": [
    "from threading import *\n",
    "def display():\n",
    "    for i in range(10):\n",
    "        print(\"child thread\")\n",
    "t=Thread(target=display) #creation of thread object to execute display function  \n",
    "t.start()\n",
    "for i in range(10):\n",
    "    print(\"main thread\")\n"
   ]
  },
  {
   "cell_type": "code",
   "execution_count": 32,
   "id": "e9f98195",
   "metadata": {},
   "outputs": [
    {
     "name": "stdout",
     "output_type": "stream",
     "text": [
      "child thread name  Thread-33\n",
      "main thread name  MainThread\n"
     ]
    }
   ],
   "source": [
    "from threading import *\n",
    "def display():\n",
    "    print(\"child thread name \", current_thread().getName() )\n",
    "t=Thread(target=display) #creation of thread object to execute display function  \n",
    "t.start()\n",
    "print(\"main thread name \", current_thread().getName())\n"
   ]
  },
  {
   "cell_type": "markdown",
   "id": "fad799e7",
   "metadata": {},
   "source": [
    "# creating a thread by extending thread class"
   ]
  },
  {
   "cell_type": "code",
   "execution_count": 23,
   "id": "d45e016e",
   "metadata": {},
   "outputs": [
    {
     "name": "stdout",
     "output_type": "stream",
     "text": [
      "child threadmain thread\n",
      "main thread\n",
      "main thread\n",
      "main thread\n",
      "main thread\n",
      "main thread\n",
      "main thread\n",
      "main thread\n",
      "main thread\n",
      "main thread\n",
      "\n",
      "child thread\n",
      "child thread\n",
      "child thread\n",
      "child thread\n",
      "child thread\n",
      "child thread\n",
      "child thread\n",
      "child thread\n",
      "child thread\n"
     ]
    }
   ],
   "source": [
    "from threading import *\n",
    "class Mythread(Thread):   #inherited Thread class into my class\n",
    "    def run(self):        # we should use olny use run or  other methods which are present  in Thead class \n",
    "        for i in range(10):\n",
    "            print(\"child thread\")\n",
    "t=Mythread()\n",
    "t.start()\n",
    "for i in range(10):\n",
    "    print(\"main thread\")"
   ]
  },
  {
   "cell_type": "markdown",
   "id": "2ffa97e8",
   "metadata": {},
   "source": [
    "# creating a thread  without using extending class:"
   ]
  },
  {
   "cell_type": "code",
   "execution_count": 33,
   "id": "3816b0f9",
   "metadata": {},
   "outputs": [
    {
     "name": "stdout",
     "output_type": "stream",
     "text": [
      "child threadmain thread\n",
      "main thread\n",
      "main thread\n",
      "main thread\n",
      "child thread\n",
      "child thread\n",
      "main thread\n",
      "child thread\n",
      "child thread\n",
      "child thread\n",
      "child thread\n",
      "\n",
      "main thread\n",
      "main thread\n",
      "main thread\n",
      "main thread\n",
      "main thread\n",
      "child thread\n",
      "child thread\n",
      "child thread\n"
     ]
    }
   ],
   "source": [
    "from threading import *\n",
    "class Test:   \n",
    "    def bharu(self):        \n",
    "        for i in range(10):\n",
    "            print(\"child thread\")\n",
    "obj=Test()\n",
    "t=Thread(target=obj.bharu)\n",
    "t.start()\n",
    "for i in range(10):\n",
    "    print(\"main thread\")"
   ]
  },
  {
   "cell_type": "code",
   "execution_count": null,
   "id": "4a474358",
   "metadata": {},
   "outputs": [],
   "source": []
  }
 ],
 "metadata": {
  "kernelspec": {
   "display_name": "Python 3",
   "language": "python",
   "name": "python3"
  },
  "language_info": {
   "codemirror_mode": {
    "name": "ipython",
    "version": 3
   },
   "file_extension": ".py",
   "mimetype": "text/x-python",
   "name": "python",
   "nbconvert_exporter": "python",
   "pygments_lexer": "ipython3",
   "version": "3.8.8"
  }
 },
 "nbformat": 4,
 "nbformat_minor": 5
}
