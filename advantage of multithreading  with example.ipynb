{
 "cells": [
  {
   "cell_type": "markdown",
   "id": "b5b01b15",
   "metadata": {},
   "source": [
    "# advantage of multithreading  with example"
   ]
  },
  {
   "cell_type": "code",
   "execution_count": 5,
   "id": "c322adc8",
   "metadata": {},
   "outputs": [
    {
     "name": "stdout",
     "output_type": "stream",
     "text": [
      "double value: 2\n",
      "double value: 4\n",
      "double value: 6\n",
      "double value: 8\n",
      "double value: 10\n",
      "double value: 12\n",
      "sqaure value :  1\n",
      "sqaure value :  4\n",
      "sqaure value :  9\n",
      "sqaure value :  16\n",
      "sqaure value :  25\n",
      "sqaure value :  36\n",
      "total time taken:  12.076242208480835\n"
     ]
    }
   ],
   "source": [
    "import time\n",
    "def doubles(numbers):\n",
    "    for i in numbers:\n",
    "        time.sleep(1)\n",
    "        print('double value:', i*2)\n",
    "def squares(numbers):\n",
    "    for i in numbers:\n",
    "        time.sleep(1)\n",
    "        print(\"sqaure value : \", i*i)\n",
    "numbers=[1,2,3,4,5,6]\n",
    "begintime=time.time()\n",
    "doubles(numbers)\n",
    "squares(numbers)\n",
    "endtime=time.time()\n",
    "\n",
    "print(\"total time taken: \" ,endtime-begintime)"
   ]
  },
  {
   "cell_type": "code",
   "execution_count": 4,
   "id": "00dbf696",
   "metadata": {},
   "outputs": [
    {
     "name": "stdout",
     "output_type": "stream",
     "text": [
      "double value:sqaure value :   1\n",
      "2\n",
      "double value:sqaure value :  4\n",
      " 4\n",
      "double value:sqaure value :  6\n",
      " 9\n",
      "double value:sqaure value :  8\n",
      " 16\n",
      "sqaure value :  25\n",
      "double value: 10\n",
      "double value:sqaure value :  36\n",
      " 12\n",
      "total time taken:  6.065867185592651\n"
     ]
    }
   ],
   "source": [
    "import time\n",
    "from threading import*\n",
    "def doubles(numbers):\n",
    "    for i in numbers:\n",
    "        time.sleep(1)\n",
    "        print('double value:', i*2)\n",
    "def squares(numbers):\n",
    "    for i in numbers:\n",
    "        time.sleep(1)\n",
    "        print(\"sqaure value : \", i*i)\n",
    "numbers=[1,2,3,4,5,6]\n",
    "begintime=time.time()\n",
    "t1=Thread(target=doubles , args=(numbers,))\n",
    "t2=Thread(target=squares, args=(numbers,))\n",
    "t1.start()\n",
    "t2.start()\n",
    "\n",
    "t1.join()\n",
    "t2.join()\n",
    "endtime=time.time()\n",
    "print(\"total time taken: \" ,endtime-begintime)"
   ]
  },
  {
   "cell_type": "code",
   "execution_count": null,
   "id": "66914824",
   "metadata": {},
   "outputs": [],
   "source": []
  }
 ],
 "metadata": {
  "kernelspec": {
   "display_name": "Python 3",
   "language": "python",
   "name": "python3"
  },
  "language_info": {
   "codemirror_mode": {
    "name": "ipython",
    "version": 3
   },
   "file_extension": ".py",
   "mimetype": "text/x-python",
   "name": "python",
   "nbconvert_exporter": "python",
   "pygments_lexer": "ipython3",
   "version": "3.8.8"
  }
 },
 "nbformat": 4,
 "nbformat_minor": 5
}
