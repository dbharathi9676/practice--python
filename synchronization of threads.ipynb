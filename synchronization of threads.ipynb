{
 "cells": [
  {
   "cell_type": "code",
   "execution_count": 11,
   "id": "cf069b0e",
   "metadata": {},
   "outputs": [
    {
     "name": "stdout",
     "output_type": "stream",
     "text": [
      "16384\n",
      "maximum reached\n",
      "8192.0\n",
      "4096.0\n",
      "2048.0\n",
      "1024.0\n",
      "512.0\n",
      "256.0\n",
      "128.0\n",
      "64.0\n",
      "32.0\n",
      "16.0\n",
      "8.0\n",
      "4.0\n",
      "2.0\n",
      "1.0\n",
      "minimum reached\n"
     ]
    }
   ],
   "source": [
    "from threading import *  \n",
    "import time \n",
    "x=8192\n",
    "lock=Lock()\n",
    "def double():\n",
    "    global x ,lock\n",
    "    lock.acquire()\n",
    "    while x < 16384:\n",
    "        x *= 2\n",
    "        print(x)\n",
    "        time.sleep(1)\n",
    "    print(\"maximum reached\")\n",
    "    lock.release()\n",
    "def halve():\n",
    "    global x ,lock\n",
    "    lock.acquire()\n",
    "    while x>1:\n",
    "        x=x/2\n",
    "        print(x)\n",
    "        time.sleep(1)\n",
    "    print(\"minimum reached\")\n",
    "    lock.release()\n",
    "\n",
    "t1=Thread(target=double)\n",
    "t2=Thread(target=halve)\n",
    "t1.start()\n",
    "t2.start()\n",
    "\n",
    "        "
   ]
  },
  {
   "cell_type": "code",
   "execution_count": null,
   "id": "9331a840",
   "metadata": {},
   "outputs": [],
   "source": []
  }
 ],
 "metadata": {
  "kernelspec": {
   "display_name": "Python 3",
   "language": "python",
   "name": "python3"
  },
  "language_info": {
   "codemirror_mode": {
    "name": "ipython",
    "version": 3
   },
   "file_extension": ".py",
   "mimetype": "text/x-python",
   "name": "python",
   "nbconvert_exporter": "python",
   "pygments_lexer": "ipython3",
   "version": "3.8.8"
  }
 },
 "nbformat": 4,
 "nbformat_minor": 5
}
