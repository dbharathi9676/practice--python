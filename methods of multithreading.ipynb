{
 "cells": [
  {
   "cell_type": "markdown",
   "id": "bbf25858",
   "metadata": {},
   "source": [
    "# to get and set name of the thread:"
   ]
  },
  {
   "cell_type": "code",
   "execution_count": 24,
   "id": "c2a14ff7",
   "metadata": {},
   "outputs": [
    {
     "name": "stdout",
     "output_type": "stream",
     "text": [
      "current executing thread:  padmavathi\n",
      "padmavathi\n",
      "child thread\n",
      "Thread-14\n",
      "bharathi\n"
     ]
    }
   ],
   "source": [
    "from threading import *\n",
    "print('current executing thread: ',current_thread().getName())\n",
    "current_thread().setName(\"padmavathi\")\n",
    "print(current_thread().getName())\n",
    "\n",
    "def display():\n",
    "    print(\"child thread\")\n",
    "t=Thread(target=display) #creation of thread object to execute display function  \n",
    "t.start()\n",
    "t.join()\n",
    "\n",
    "print(t.name)\n",
    "t.setName(\"bharathi\")\n",
    "print(t.name)\n",
    "                        \n"
   ]
  },
  {
   "cell_type": "code",
   "execution_count": 23,
   "id": "898ec650",
   "metadata": {},
   "outputs": [
    {
     "name": "stdout",
     "output_type": "stream",
     "text": [
      "current executing thread:  padmavathi\n",
      "padmavathi\n"
     ]
    }
   ],
   "source": [
    "from threading import *\n",
    "print('current executing thread: ',current_thread().name)\n",
    "current_thread().name =\"padmavathi\"\n",
    "print(current_thread().name)\n"
   ]
  },
  {
   "cell_type": "markdown",
   "id": "af9b7ab3",
   "metadata": {},
   "source": [
    "# printing thread identification number :"
   ]
  },
  {
   "cell_type": "code",
   "execution_count": 28,
   "id": "4330bf33",
   "metadata": {},
   "outputs": [
    {
     "name": "stdout",
     "output_type": "stream",
     "text": [
      "child thread\n",
      "hello world\n",
      "main thread identification number 23576\n",
      "child thread identification number 6960\n"
     ]
    }
   ],
   "source": [
    "from threading import *\n",
    "\n",
    "def display():\n",
    "    print(\"child thread\")\n",
    "t=Thread(target=display)   \n",
    "t.start()\n",
    "\n",
    "print(\"hello world\")\n",
    "\n",
    "print(\"main thread identification number\", current_thread().ident)\n",
    "print(\"child thread identification number\", t.ident)\n",
    "\n"
   ]
  },
  {
   "cell_type": "markdown",
   "id": "89f0c348",
   "metadata": {},
   "source": [
    "# active_count(): the no.of threads that are active"
   ]
  },
  {
   "cell_type": "code",
   "execution_count": 33,
   "id": "1d41a22c",
   "metadata": {},
   "outputs": [
    {
     "name": "stdout",
     "output_type": "stream",
     "text": [
      "total no of active threads : 5\n",
      "bharu ...started\n",
      "deepuhanu ...started\n",
      "total no of active threads : ...started 8\n",
      "\n",
      "bharu ...ended\n",
      "hanu ...ended\n",
      "deepu ...ended\n",
      "total no of active threads : 5\n"
     ]
    }
   ],
   "source": [
    "from threading import *\n",
    "import time\n",
    "\n",
    "def display():\n",
    "    print(current_thread().name ,\"...started\")\n",
    "    time.sleep(2)\n",
    "    print(current_thread().name ,\"...ended\")\n",
    "\n",
    "print(\"total no of active threads :\" , active_count())\n",
    "\n",
    "t1=Thread(target=display , name=\"bharu\")   \n",
    "t2=Thread(target=display ,name=\"deepu\")   \n",
    "t3=Thread(target=display,name=\"hanu\")  \n",
    "t1.start()\n",
    "t2.start()\n",
    "t3.start()\n",
    "\n",
    "print(\"total no of active threads :\" , active_count())\n",
    "time.sleep(10)\n",
    "print(\"total no of active threads :\" , active_count())\n",
    "\n",
    "\n",
    "\n"
   ]
  },
  {
   "cell_type": "markdown",
   "id": "d6409178",
   "metadata": {},
   "source": [
    "# enumerate() : used to list all active threads"
   ]
  },
  {
   "cell_type": "code",
   "execution_count": 3,
   "id": "484b21e8",
   "metadata": {},
   "outputs": [
    {
     "name": "stdout",
     "output_type": "stream",
     "text": [
      "bharu ...started\n",
      "deepu ...started\n",
      "hanu ...started\n",
      "thread name MainThread\n",
      "thread identification number : 19668\n",
      "thread name Thread-4\n",
      "thread identification number : 26912\n",
      "thread name Thread-5\n",
      "thread identification number : 25152\n",
      "thread name IPythonHistorySavingThread\n",
      "thread identification number : 16240\n",
      "thread name Thread-3\n",
      "thread identification number : 17932\n",
      "thread name bharu\n",
      "thread identification number : 14736\n",
      "thread name deepu\n",
      "thread identification number : 27164\n",
      "thread name hanu\n",
      "thread identification number : 24372\n",
      "deepubharu ...ended\n",
      " ...ended\n",
      "hanu ...ended\n",
      "thread name MainThread\n",
      "thread identification number : 19668\n",
      "thread name Thread-4\n",
      "thread identification number : 26912\n",
      "thread name Thread-5\n",
      "thread identification number : 25152\n",
      "thread name IPythonHistorySavingThread\n",
      "thread identification number : 16240\n",
      "thread name Thread-3\n",
      "thread identification number : 17932\n"
     ]
    }
   ],
   "source": [
    "from threading import *\n",
    "import time\n",
    "\n",
    "def display():\n",
    "    print(current_thread().name ,\"...started\")\n",
    "    time.sleep(2)\n",
    "    print(current_thread().name ,\"...ended\")\n",
    "\n",
    "t1=Thread(target=display , name=\"bharu\")   \n",
    "t2=Thread(target=display ,name=\"deepu\")   \n",
    "t3=Thread(target=display,name=\"hanu\")  \n",
    "t1.start()\n",
    "t2.start()\n",
    "t3.start()\n",
    "\n",
    "l=enumerate()\n",
    "for i in l:\n",
    "    print(\"thread name\",i.name)\n",
    "    print(\"thread identification number :\", i.ident)\n",
    "\n",
    "time.sleep(10)\n",
    "l=enumerate()\n",
    "for i in l:\n",
    "    print(\"thread name\",i.name)\n",
    "    print(\"thread identification number :\", i.ident)\n",
    "    \n",
    "\n"
   ]
  },
  {
   "cell_type": "markdown",
   "id": "7fd47d5f",
   "metadata": {},
   "source": [
    "# isAlive() : to check whether the thread is alive or not"
   ]
  },
  {
   "cell_type": "code",
   "execution_count": 5,
   "id": "f10e1b9e",
   "metadata": {},
   "outputs": [
    {
     "name": "stdout",
     "output_type": "stream",
     "text": [
      "bharu ...started\n",
      "deepu bharu isalive :  True\n",
      "deepu isalive :  True\n",
      "...started\n"
     ]
    },
    {
     "name": "stderr",
     "output_type": "stream",
     "text": [
      "<ipython-input-5-b54091139b41>:14: DeprecationWarning: isAlive() is deprecated, use is_alive() instead\n",
      "  print(t1.name,'isalive : ', t1.isAlive() )\n",
      "<ipython-input-5-b54091139b41>:15: DeprecationWarning: isAlive() is deprecated, use is_alive() instead\n",
      "  print(t2.name,'isalive : ', t2.isAlive() )\n"
     ]
    },
    {
     "name": "stdout",
     "output_type": "stream",
     "text": [
      "bharudeepu ...ended\n",
      " ...ended\n",
      "bharu isalive :  False\n",
      "deepu isalive :  False\n"
     ]
    },
    {
     "name": "stderr",
     "output_type": "stream",
     "text": [
      "<ipython-input-5-b54091139b41>:18: DeprecationWarning: isAlive() is deprecated, use is_alive() instead\n",
      "  print(t1.name,'isalive : ', t1.isAlive() )\n",
      "<ipython-input-5-b54091139b41>:19: DeprecationWarning: isAlive() is deprecated, use is_alive() instead\n",
      "  print(t2.name,'isalive : ', t2.isAlive() )\n"
     ]
    }
   ],
   "source": [
    "from threading import *\n",
    "import time\n",
    "\n",
    "def display():\n",
    "    print(current_thread().name ,\"...started\")\n",
    "    time.sleep(2)\n",
    "    print(current_thread().name ,\"...ended\")\n",
    "\n",
    "t1=Thread(target=display , name=\"bharu\")   \n",
    "t2=Thread(target=display ,name=\"deepu\")   \n",
    "t1.start()\n",
    "t2.start()\n",
    "\n",
    "print(t1.name,'isalive : ', t1.isAlive() )\n",
    "print(t2.name,'isalive : ', t2.isAlive() )\n",
    "\n",
    "time.sleep(10)\n",
    "print(t1.name,'isalive : ', t1.isAlive() )\n",
    "print(t2.name,'isalive : ', t2.isAlive() )\n",
    "\n",
    "\n",
    "\n"
   ]
  },
  {
   "cell_type": "markdown",
   "id": "48752b2e",
   "metadata": {},
   "source": [
    "# join() : if a thread wants to wait until some other thread completion ,then we use join method. \n",
    "ex:venuefixing,\n",
    "   card printing ,\n",
    "   card distribution"
   ]
  },
  {
   "cell_type": "code",
   "execution_count": 3,
   "id": "03612318",
   "metadata": {},
   "outputs": [
    {
     "name": "stdout",
     "output_type": "stream",
     "text": [
      "seetha thread\n",
      "seetha thread\n",
      "ram thread\n",
      "ram thread\n",
      "ram thread\n",
      "ram thread\n",
      "ram thread\n",
      "seetha thread\n",
      "seetha thread\n",
      "seetha thread\n"
     ]
    }
   ],
   "source": [
    "from threading import *\n",
    "import time\n",
    "\n",
    "def display():\n",
    "    for i in range(5):\n",
    "        print(\"seetha thread\")\n",
    "        time.sleep(2)\n",
    "\n",
    "t1=Thread(target=display)\n",
    "t1.start()\n",
    "\n",
    "t1.join(4) #the main thread will wait upto 4 seconds ,after that it will start its execution.\n",
    "for i in range(5):\n",
    "    print(\"ram thread\")\n"
   ]
  },
  {
   "cell_type": "code",
   "execution_count": null,
   "id": "345a2874",
   "metadata": {},
   "outputs": [],
   "source": []
  }
 ],
 "metadata": {
  "kernelspec": {
   "display_name": "Python 3",
   "language": "python",
   "name": "python3"
  },
  "language_info": {
   "codemirror_mode": {
    "name": "ipython",
    "version": 3
   },
   "file_extension": ".py",
   "mimetype": "text/x-python",
   "name": "python",
   "nbconvert_exporter": "python",
   "pygments_lexer": "ipython3",
   "version": "3.8.8"
  }
 },
 "nbformat": 4,
 "nbformat_minor": 5
}
