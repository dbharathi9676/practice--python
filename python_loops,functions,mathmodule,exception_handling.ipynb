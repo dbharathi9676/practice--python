{
 "cells": [
  {
   "cell_type": "code",
   "execution_count": 1,
   "id": "de09a354",
   "metadata": {},
   "outputs": [
    {
     "name": "stdout",
     "output_type": "stream",
     "text": [
      "b>a\n"
     ]
    }
   ],
   "source": [
    "a=30\n",
    "b=40\n",
    "if a>b:\n",
    "    print(\"a>b\")\n",
    "elif a==b:\n",
    "    print(\"a==b\")\n",
    "else :\n",
    "    print(\"b>a\")\n",
    "    "
   ]
  },
  {
   "cell_type": "code",
   "execution_count": 2,
   "id": "edbdd913",
   "metadata": {},
   "outputs": [
    {
     "name": "stdout",
     "output_type": "stream",
     "text": [
      "1\n",
      "2\n",
      "3\n",
      "4\n",
      "5\n",
      "6\n",
      "7\n",
      "8\n",
      "9\n",
      "10\n",
      "i is no longer greater than 10\n"
     ]
    }
   ],
   "source": [
    "i=1\n",
    "while i<=10:\n",
    "    print(i)\n",
    "    i=i+1\n",
    "else:\n",
    "    print(\"i is no longer greater than 10\")"
   ]
  },
  {
   "cell_type": "code",
   "execution_count": 3,
   "id": "3007e4a8",
   "metadata": {},
   "outputs": [
    {
     "name": "stdout",
     "output_type": "stream",
     "text": [
      "0\n",
      "3\n",
      "6\n",
      "9\n",
      "12\n",
      "15\n",
      "18\n"
     ]
    }
   ],
   "source": [
    "for i in range(0,20,3):\n",
    "    print(i)"
   ]
  },
  {
   "cell_type": "markdown",
   "id": "1f1ef9a7",
   "metadata": {},
   "source": [
    "# functions"
   ]
  },
  {
   "cell_type": "code",
   "execution_count": 4,
   "id": "97cecd56",
   "metadata": {},
   "outputs": [
    {
     "name": "stdout",
     "output_type": "stream",
     "text": [
      "hanuman\n"
     ]
    }
   ],
   "source": [
    "def my_name():\n",
    "    print(\"hanuman\")\n",
    "my_name()"
   ]
  },
  {
   "cell_type": "code",
   "execution_count": 14,
   "id": "921df05e",
   "metadata": {},
   "outputs": [
    {
     "name": "stdout",
     "output_type": "stream",
     "text": [
      "hello bharathi dhuba\n"
     ]
    }
   ],
   "source": [
    "def my_name(fname,lname):\n",
    "    print(\"hello \" + fname + \" \" +lname)\n",
    "my_name(\"bharathi\",\"dhuba\")"
   ]
  },
  {
   "cell_type": "code",
   "execution_count": 18,
   "id": "c8b34ac0",
   "metadata": {},
   "outputs": [
    {
     "name": "stdout",
     "output_type": "stream",
     "text": [
      "hello bharathi dhuba\n"
     ]
    }
   ],
   "source": [
    "def my_name(*names):\n",
    "    print(\"hello \" + names[0] + \" \" +names[1])\n",
    "my_name(\"bharathi\",\"dhuba\")"
   ]
  },
  {
   "cell_type": "code",
   "execution_count": 19,
   "id": "b2fa57e5",
   "metadata": {},
   "outputs": [
    {
     "name": "stdout",
     "output_type": "stream",
     "text": [
      "hello bharathi dhuba\n"
     ]
    }
   ],
   "source": [
    "def my_name(n1,n2,n3):\n",
    "    print(\"hello \" + n1 + \" \" +n2)\n",
    "my_name(n1=\"bharathi\",n2=\"dhuba\",n3=\"priya\")"
   ]
  },
  {
   "cell_type": "code",
   "execution_count": 23,
   "id": "175dee17",
   "metadata": {},
   "outputs": [
    {
     "name": "stdout",
     "output_type": "stream",
     "text": [
      "hello bharathi priyadhuba\n"
     ]
    }
   ],
   "source": [
    "def my_name(**names):\n",
    "    print(\"hello \" + names[\"n1\"] + \" \" +names[\"n3\"]+\"\"+names[\"n2\"])\n",
    "my_name(n1=\"bharathi\",n2=\"dhuba\",n3=\"priya\")"
   ]
  },
  {
   "cell_type": "markdown",
   "id": "553929f1",
   "metadata": {},
   "source": [
    "# math module and datetime module"
   ]
  },
  {
   "cell_type": "code",
   "execution_count": 24,
   "id": "a778d635",
   "metadata": {},
   "outputs": [
    {
     "name": "stdout",
     "output_type": "stream",
     "text": [
      "1\n",
      "90\n",
      "8\n",
      "190\n"
     ]
    }
   ],
   "source": [
    "x=min(1,56,90)\n",
    "y=max(1,56,90)\n",
    "z=pow(2,3)\n",
    "w=abs(-190)\n",
    "print(x)\n",
    "print(y)\n",
    "print(z)\n",
    "print(w)"
   ]
  },
  {
   "cell_type": "code",
   "execution_count": 29,
   "id": "8fcde5d2",
   "metadata": {},
   "outputs": [
    {
     "name": "stdout",
     "output_type": "stream",
     "text": [
      "8.0\n",
      "65\n",
      "64\n"
     ]
    },
    {
     "data": {
      "text/plain": [
       "3.141592653589793"
      ]
     },
     "execution_count": 29,
     "metadata": {},
     "output_type": "execute_result"
    }
   ],
   "source": [
    "import math\n",
    "x=math.sqrt(64)\n",
    "y=math.ceil(64.34)\n",
    "z=math.floor(64.34)\n",
    "print(x)\n",
    "print(y)\n",
    "print(z)\n",
    "math.pi\n",
    "\n"
   ]
  },
  {
   "cell_type": "code",
   "execution_count": 30,
   "id": "9ea705ef",
   "metadata": {},
   "outputs": [
    {
     "name": "stdout",
     "output_type": "stream",
     "text": [
      "2024-01-18 15:57:39.211979\n"
     ]
    }
   ],
   "source": [
    "import datetime\n",
    "x=datetime.datetime.now()\n",
    "print(x)"
   ]
  },
  {
   "cell_type": "markdown",
   "id": "1e469c42",
   "metadata": {},
   "source": [
    "# exception handling"
   ]
  },
  {
   "cell_type": "code",
   "execution_count": 31,
   "id": "e7c60a5e",
   "metadata": {},
   "outputs": [
    {
     "name": "stdout",
     "output_type": "stream",
     "text": [
      "enter number3\n",
      "enter number4\n",
      "0.75\n",
      "no errors\n",
      "i will always execute\n",
      "remaining code part starts executing\n"
     ]
    }
   ],
   "source": [
    "try:\n",
    "    a=int(input(\"enter number\"))\n",
    "    b=int(input(\"enter number\"))\n",
    "    c=a/b\n",
    "    print(c)\n",
    "except zerodivisonerror:\n",
    "    print(\"you can't divide by zero\")\n",
    "except valueerror:\n",
    "    print(\"don't enter character\")\n",
    "else:\n",
    "    print(\"no errors\")\n",
    "finally:\n",
    "    print(\"i will always execute\")\n",
    "print(\"remaining code part starts executing\")"
   ]
  },
  {
   "cell_type": "code",
   "execution_count": null,
   "id": "9864d8f3",
   "metadata": {},
   "outputs": [],
   "source": []
  }
 ],
 "metadata": {
  "kernelspec": {
   "display_name": "Python 3",
   "language": "python",
   "name": "python3"
  },
  "language_info": {
   "codemirror_mode": {
    "name": "ipython",
    "version": 3
   },
   "file_extension": ".py",
   "mimetype": "text/x-python",
   "name": "python",
   "nbconvert_exporter": "python",
   "pygments_lexer": "ipython3",
   "version": "3.8.8"
  }
 },
 "nbformat": 4,
 "nbformat_minor": 5
}
