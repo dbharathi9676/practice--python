{
 "cells": [
  {
   "cell_type": "markdown",
   "id": "9ef8717d",
   "metadata": {},
   "source": [
    "#Inheritance (single level inheritance)"
   ]
  },
  {
   "cell_type": "code",
   "execution_count": 17,
   "id": "036c4ff9",
   "metadata": {},
   "outputs": [
    {
     "name": "stdout",
     "output_type": "stream",
     "text": [
      "2\n",
      "1\n",
      "i am bharath i have 2 eyes and 1 heart and 1 nose\n"
     ]
    }
   ],
   "source": [
    "class Human:\n",
    "    def __init__(self,heart):\n",
    "        self.num_eyes=2\n",
    "        self.num_nose=1\n",
    "        self.num_heart=heart\n",
    "    def eat(self):\n",
    "        print(\"i can eat\")\n",
    "    def work(self):\n",
    "        print(\"i can work\")\n",
    "\n",
    "class Male(Human):\n",
    "    def __init__(self,name ,heart):\n",
    "        super().__init__(heart)\n",
    "        self.male_name = name\n",
    "        \n",
    "    def sleep(self):\n",
    "        print(\"i can sleep\")\n",
    "    def work(self):\n",
    "        super().work()\n",
    "        print(\"i can code\")\n",
    "    def display(self):\n",
    "        print(f\"i am {self.male_name} i have {self.num_eyes} eyes and {self.num_heart} heart and {self.num_nose} nose\")\n",
    "\n",
    "male_1=Male(\"bharath\" ,1)\n",
    "#male_1.eat()\n",
    "#male_1.work()\n",
    "print(male_1.num_eyes)\n",
    "print(male_1.num_heart)\n",
    "male_1.display()"
   ]
  },
  {
   "cell_type": "code",
   "execution_count": null,
   "id": "ada297ae",
   "metadata": {},
   "outputs": [],
   "source": []
  },
  {
   "cell_type": "code",
   "execution_count": null,
   "id": "850edce9",
   "metadata": {},
   "outputs": [],
   "source": []
  },
  {
   "cell_type": "code",
   "execution_count": null,
   "id": "e679cfb1",
   "metadata": {},
   "outputs": [],
   "source": []
  }
 ],
 "metadata": {
  "kernelspec": {
   "display_name": "Python 3",
   "language": "python",
   "name": "python3"
  },
  "language_info": {
   "codemirror_mode": {
    "name": "ipython",
    "version": 3
   },
   "file_extension": ".py",
   "mimetype": "text/x-python",
   "name": "python",
   "nbconvert_exporter": "python",
   "pygments_lexer": "ipython3",
   "version": "3.8.8"
  }
 },
 "nbformat": 4,
 "nbformat_minor": 5
}
